{
 "cells": [
  {
   "cell_type": "markdown",
   "metadata": {},
   "source": [
    "# Practical 2 : Generative and Discriminative Models\n"
   ]
  },
  {
   "cell_type": "markdown",
   "metadata": {},
   "source": [
    "In this practical, we will compare the Naïve Bayes Classifier (NBC) and Logistic Regression on several\n",
    "datasets. As part of the practical you should read briefly the following paper:\n",
    "\n"
   ]
  },
  {
   "cell_type": "markdown",
   "metadata": {},
   "source": [
    "**On Discriminative vs. Generative classifiers: A comparison of logistic regression\n",
    "and naive Bayes**  \n",
    "*Andrew Y. Ng and Michael I. Jordan*  \n",
    "Advances in Neural Information Processing Systems (NIPS) 2001.\n",
    "\n",
    "The paper is available on OLAT. "
   ]
  },
  {
   "cell_type": "markdown",
   "metadata": {},
   "source": [
    "You should read the Introduction and the Experiments sections. The goal of this practical is\n",
    "to qualitatively reproduce some of the experimental results in this paper. You are strongly\n",
    "encouraged to read the rest of the paper, which is rather short and straightforward to read,\n",
    "though some of you may want to skip the formal proofs."
   ]
  },
  {
   "cell_type": "markdown",
   "metadata": {},
   "source": [
    "## Naïve Bayes Classifier (NBC)"
   ]
  },
  {
   "cell_type": "markdown",
   "metadata": {},
   "source": [
    "You should implement a Naïve Bayes Classifier from scartch using NumPy. To keep your code tidy,\n",
    "we recommend implementing it as a class. \n",
    "The classifier should be able to handle binary and continuous features. \n",
    "To earn the bonus points, the classifier should be able to handle categorical features as well. \n",
    "Suppose the data has 3\n",
    "different features, the first being binary, the second being continuous and the third being categorical. Write an implementation that you can initialise as follows:\n",
    "\n",
    "    nbc = NBC(feature_types=['b', 'r', 'c'])"
   ]
  },
  {
   "cell_type": "markdown",
   "metadata": {},
   "source": [
    "Along the lines of classifiers provided in sklearn, you want to implement two more functions,\n",
    "**fit** and **predict**. \n",
    "Recall the joint distribution of a generative model: $p(\\mathbf{x}, y \\mid \\theta, \\pi) = p(y \\mid \\pi) \\cdot p(\\mathbf{x} \\mid y, \\theta)$.\n",
    "The **fit** function is to estimate all the parameters ($\\theta$ and $\\pi$) of the NBC, i.e., train the classifier. The **predict** function is to compute the probabilities that the new input belongs to all classes and\n",
    "then return the class that has the largest probability, i.e., make the prediction.\n",
    "\n",
    "    nbc.fit(X_train, y_train)\n",
    "    ypredicted = nbc.predict(X_test)\n",
    "    test_accuracy = np.mean(ypredicted == ytest)"
   ]
  },
  {
   "cell_type": "markdown",
   "metadata": {},
   "source": [
    "Here we import the libraries. "
   ]
  },
  {
   "cell_type": "code",
   "execution_count": 1,
   "metadata": {},
   "outputs": [],
   "source": [
    "%matplotlib inline\n",
    "import pylab\n",
    "pylab.rcParams['figure.figsize'] = (10., 10.)\n",
    "\n",
    "import pickle as cp\n",
    "import matplotlib.pyplot as plt\n",
    "import numpy as np"
   ]
  },
  {
   "cell_type": "markdown",
   "metadata": {},
   "source": [
    "### Class-conditional distributions\n",
    "\n",
    "Before implementing NBC, we first implement the class-conditional distributions $p(\\mathbf{x} \\mid y, \\theta)$. Your implementation should have two functions: **estimate** and **get_log_probability**. \n",
    "\n",
    "- The **estimate** function takes data as input and models the data using some distribution $p(x \\mid \\theta)$, where $\\theta$ is the parameters of this distribution. The function estimates the parameters $\\theta$ using maximum likelihood estimators (MLE). \n",
    "For example, in the case of continuous features, we use the Gaussian distribution to model the data. The estimate function will find the parameters $\\mu$ and $\\sigma$ for the Gaussian distribution with respect to the input data. \n",
    "\n",
    "- The **get_log_probability** function takes as input a new data point $x_{new}$ and returns the log of $p(x_{new} \\mid \\theta)$. For the Gaussian distribution, the function get_probability will return $\\mathcal{N}(x_{new} \\mid \\mu, \\sigma)$. "
   ]
  },
  {
   "cell_type": "markdown",
   "metadata": {},
   "source": [
    "For different types of features, you need to use different distributions.\n",
    "You can import statistic libraries (e.g., `scipy.stats`) for the implementation of the distributions. \n",
    "\n",
    "- For **continuous features**: Use Gaussian distribution\n",
    "    https://docs.scipy.org/doc/scipy/reference/generated/scipy.stats.norm.html\n",
    "- For **binary features**: Use Bernoulli distribution \n",
    "    https://docs.scipy.org/doc/scipy/reference/generated/scipy.stats.bernoulli.html\n",
    "- For **categorical features**: Use Multinoulli distribution (The multinoulli distribution is a special case of the multinomial distribution, where the number of trials is 1)\n",
    "    https://docs.scipy.org/doc/scipy/reference/generated/scipy.stats.multinomial.html\n",
    "\n"
   ]
  },
  {
   "cell_type": "markdown",
   "metadata": {},
   "source": [
    "**Implementation Issues:**\n",
    "- The probabilities can be very small. To avoid underflow issues, you should compute the log of the probabilities. Read more: (Mur) Chapter 3.5.3 / Lecture Notes\n",
    "- The variance for Gaussian distributions should never be exactly 0, so in\n",
    "case your calculated variance is 0, you may want to set it to a small value such as 1e − 6. This is to ensure that your code never encounters division by zero or\n",
    "taking logarithms of 0 errors. \n",
    "For this practical, please set the small value to 1e-6.\n",
    "- Laplace/Additive smoothing: You want to ensure that the estimates for the parameter for the Bernoulli and Multinoulli random variables is never exactly 0 or 1. For this reason you should consider using Laplace smoothing (https://en.wikipedia.org/wiki/Additive_smoothing).\n",
    "For this practical, please set alpha to 1.\n",
    "- We will check the correctness of your implementation using the tests below.\n",
    "- For simplicity, you can assume the data values for binary features are integers from {0,1} and the data for a categorical feature with M categories are integers from {0, ..., M-1}.\n",
    "- Fell free to add auxiliary functions or change the parameters of the functions. If you change the parameters of the functions, make sure you change the tests accordingly, so we can test your code.\n"
   ]
  },
  {
   "cell_type": "code",
   "execution_count": 2,
   "metadata": {},
   "outputs": [],
   "source": [
    "from scipy.stats import norm, bernoulli, multinomial\n",
    "\n",
    "ALPHA = 1.0 # for additive smoothing\n",
    "\n",
    "# Distribution for continuous features\n",
    "class ContFeatureParam:\n",
    "    def estimate(self, X):\n",
    "        # TODO: Estimate the parameters for the Gaussian distribution \n",
    "        # so that it best describes the input data X\n",
    "        self.mu = np.mean(X)\n",
    "        self.sigma = np.std(X)\n",
    "        if self.sigma == 0:\n",
    "            self.sigma = 1e-6  # to prevent division by zero\n",
    "\n",
    "    def get_log_probability(self, X_new):\n",
    "        # TODO: return the log of the density values for the input values X_new\n",
    "        return norm.logpdf(X_new, self.mu, self.sigma)\n",
    "\n",
    "# Distribution for binary features\n",
    "class BinFeatureParam:\n",
    "    def estimate(self, X):\n",
    "        # TODO: Estimate the parameters for the Bernoulli distribution \n",
    "        # so that it best describes the input data X\n",
    "        self.p = (np.sum(X) + ALPHA) / (len(X) + 2 * ALPHA)\n",
    "\n",
    "    def get_log_probability(self, X_new):\n",
    "        # TODO: return the log of the probability values for the input values X_new\n",
    "        return bernoulli.logpmf(X_new, self.p)\n",
    "\n",
    "# Distribution for categorical features\n",
    "class CatFeatureParam:\n",
    "    \n",
    "    # we need to know the number of categories for the categorical feature\n",
    "    def __init__(self, num_of_categories):\n",
    "        self._num_of_categories = num_of_categories\n",
    "    \n",
    "    def estimate(self, X):\n",
    "        # TODO: Estimate the parameters for the Multinoulli distribution \n",
    "        # so that it best describes the input data X\n",
    "        counts = np.bincount(X, minlength=self._num_of_categories)\n",
    "        self.probs = (counts + ALPHA) / (len(X) + ALPHA * self._num_of_categories)\n",
    "        \n",
    "    def get_log_probability(self, X_new):\n",
    "        # TODO: return the log of the probability values for the input values X_new\n",
    "        log_prob = np.zeros(len(X_new))\n",
    "        for i in range(len(X_new)):\n",
    "            if X_new[i] < self._num_of_categories:\n",
    "                log_prob[i] = np.log(self.probs[X_new[i]])\n",
    "            else:\n",
    "                log_prob[i] = -np.inf  # Assigning a very low probability if the category is out of bounds\n",
    "        return log_prob"
   ]
  },
  {
   "cell_type": "markdown",
   "metadata": {},
   "source": [
    "**Tests:**\n",
    "    \n",
    "We will use the code below to test the correctness of your code."
   ]
  },
  {
   "cell_type": "code",
   "execution_count": 3,
   "metadata": {},
   "outputs": [
    {
     "name": "stdout",
     "output_type": "stream",
     "text": [
      "[-5.64670664 -3.02757918 -1.44567455 -0.90099277]\n"
     ]
    }
   ],
   "source": [
    "# continuous features\n",
    "\n",
    "X = np.array([2.70508547,2.10499698,1.76019132,3.42016431,3.47037973,3.67435061,1.84749286,4.3388506,2.27818252,4.65165335])\n",
    "\n",
    "param = ContFeatureParam()\n",
    "param.estimate(X)\n",
    "probs = param.get_log_probability(np.array([0,1,2,3]))\n",
    "print(probs)"
   ]
  },
  {
   "cell_type": "code",
   "execution_count": 4,
   "metadata": {},
   "outputs": [
    {
     "name": "stdout",
     "output_type": "stream",
     "text": [
      "[-0.87546874 -0.5389965 ]\n"
     ]
    }
   ],
   "source": [
    "# binary features\n",
    "\n",
    "X = np.array([0,0,1,1,0,1,0,1,1,1])\n",
    "\n",
    "param = BinFeatureParam()\n",
    "param.estimate(X)\n",
    "probs = param.get_log_probability(np.array([0,1]))\n",
    "print(probs)"
   ]
  },
  {
   "cell_type": "code",
   "execution_count": 5,
   "metadata": {},
   "outputs": [
    {
     "name": "stdout",
     "output_type": "stream",
     "text": [
      "[-1.94591015 -2.1690537  -1.94591015 -2.45673577 -2.1690537  -2.86220088\n",
      " -1.94591015 -3.55534806 -2.1690537  -2.86220088]\n"
     ]
    }
   ],
   "source": [
    "# categorical features (bonus task)\n",
    "\n",
    "X = np.array([0,6,5,4,0,6,6,4,1,1,2,3,8,8,1,6,4,9,0,2,2,3,8,0,2])\n",
    "\n",
    "param = CatFeatureParam(num_of_categories=10)\n",
    "param.estimate(X)\n",
    "probs = param.get_log_probability(np.array([0,1,2,3,4,5,6,7,8,9]))\n",
    "print(probs)"
   ]
  },
  {
   "cell_type": "markdown",
   "metadata": {},
   "source": [
    "### Implement NBC\n",
    "\n",
    "We are now ready to implement NBC. We follow the structure of models in scikit-learn. We implement NBC as a class with functions **init**, **fit** and **predict**.\n",
    "The **init** function takes as input the types of features and initialise the classifier. The **fit** function takes the training data as input and estimates the parameters. The **predict** function predicts the label for the input data. "
   ]
  },
  {
   "cell_type": "markdown",
   "metadata": {},
   "source": [
    "**Implementation Issues:**\n",
    "- You should use matrix operations rather than loops. In general, loops over classes or features are OK, but loops over the rows of data are not a good idea.\n",
    "- The probabilities can be very small. To avoid underflow issues, you should do the calculations in log space. Read more: (Mur) Chapter 3.5.3 / Lecture Note\n",
    "- For simplicity, you can assume the data values for binary features are integers from {0, 1} and the data for a categorical feature with M categories are integers from {0, ..., M-1}.\n",
    "- Fell free to add auxiliary functions or change the parameters of the functions. If you change the parameters of the functions, make sure you change the tests accordingly, so we can test your code."
   ]
  },
  {
   "cell_type": "code",
   "execution_count": 6,
   "metadata": {},
   "outputs": [],
   "source": [
    "# Your task is to implement the three functions of NBC. \n",
    "\n",
    "class NBC:\n",
    "    # Inputs:\n",
    "    #   feature_types: the array of the types of the features, e.g., feature_types=['b', 'r', 'c']\n",
    "    def __init__(self, feature_types=[]):\n",
    "        self.feature_types = feature_types\n",
    "        self.params = []\n",
    "        self.class_priors = []\n",
    "\n",
    "        \n",
    "    # The function uses the input data to estimate all the parameters of the NBC\n",
    "    def fit(self, X, y):\n",
    "        classes = np.unique(y)\n",
    "        self.class_priors = np.array([np.log(np.mean(y == c)) for c in classes])\n",
    "        self.params = {f_type: [[] for _ in classes] for f_type in self.feature_types}\n",
    "\n",
    "        # Estimate parameters for each feature for each class\n",
    "        for f_idx, f_type in enumerate(self.feature_types):\n",
    "            if f_type == 'b':\n",
    "                param_class = BinFeatureParam\n",
    "            elif f_type == 'r':\n",
    "                param_class = ContFeatureParam\n",
    "            elif f_type == 'c':\n",
    "                num_categories = len(np.unique(X[:, f_idx]))\n",
    "                param_class = lambda: CatFeatureParam(num_categories)\n",
    "\n",
    "            for c_idx, c in enumerate(classes):\n",
    "                idx = np.where(y == c)\n",
    "                param_instance = param_class()\n",
    "                param_instance.estimate(X[idx, f_idx].flatten())\n",
    "                self.params[f_type][c_idx].append(param_instance)\n",
    "                \n",
    "                \n",
    "    # The function takes the data X as input, and predicts the class for the data\n",
    "    def predict(self, X):\n",
    "        num_classes = len(self.class_priors)\n",
    "        log_probs = np.zeros((X.shape[0], num_classes))\n",
    "        for i in range(num_classes):\n",
    "            for j, f_type in enumerate(self.feature_types):\n",
    "                log_probs[:, i] += self.params[f_type][i][j].get_log_probability(X[:, j])\n",
    "            log_probs[:, i] += self.class_priors[i]\n",
    "\n",
    "        return np.argmax(log_probs, axis=1)"
   ]
  },
  {
   "cell_type": "markdown",
   "metadata": {},
   "source": [
    "**Tests**\n",
    "\n",
    "We will use the code below to check your code."
   ]
  },
  {
   "cell_type": "code",
   "execution_count": 7,
   "metadata": {},
   "outputs": [
    {
     "name": "stdout",
     "output_type": "stream",
     "text": [
      "Accuracy: 0.9333333333333333\n",
      "[2 2 2 2 2 2 2 2 2 2 2 2 2 1 1 2 2 2 2 2 2 2 2 2 2 2 2 2 2 2]\n"
     ]
    }
   ],
   "source": [
    "# All features of the iris dataset are continuous.\n",
    "\n",
    "from sklearn.datasets import load_iris\n",
    "iris = load_iris()\n",
    "X, y = iris['data'], iris['target']\n",
    "\n",
    "N, D = X.shape\n",
    "Ntrain = int(0.8 * N)\n",
    "Xtrain = X[:Ntrain]\n",
    "ytrain = y[:Ntrain]\n",
    "Xtest = X[Ntrain:]\n",
    "ytest = y[Ntrain:]\n",
    "\n",
    "\n",
    "nbc_iris = NBC(feature_types=['r', 'r', 'r', 'r'])\n",
    "nbc_iris.fit(Xtrain, ytrain)\n",
    "yhat = nbc_iris.predict(Xtest)\n",
    "test_accuracy = np.mean(yhat == ytest)\n",
    "\n",
    "print(\"Accuracy:\", test_accuracy) # should be larger than 90%\n",
    "print(yhat)"
   ]
  },
  {
   "cell_type": "code",
   "execution_count": 8,
   "metadata": {},
   "outputs": [
    {
     "name": "stdout",
     "output_type": "stream",
     "text": [
      "Accuracy: 0.8723404255319149\n",
      "[1 0 1 1 0 1 1 0 0 1 1 1 0 1 1 1 1 1 0 1 1 0 1 0 0 1 1 1 0 1 1 1 0 1 0 1 0\n",
      " 0 0 1 0 0 0 0 1 1 0]\n"
     ]
    }
   ],
   "source": [
    "# All features of this dataset are binary\n",
    "import pandas as pd\n",
    "data = pd.read_csv('./datasets/binary_test.csv', header=None)\n",
    "data = data.to_numpy()\n",
    "\n",
    "X = data[:,1:]\n",
    "y = data[:,0]\n",
    "\n",
    "N, D = X.shape\n",
    "Ntrain = int(0.8 * N)\n",
    "Xtrain = X[:Ntrain]\n",
    "ytrain = y[:Ntrain]\n",
    "Xtest = X[Ntrain:]\n",
    "ytest = y[Ntrain:]\n",
    "\n",
    "\n",
    "nbc = NBC(feature_types=['b'] * 16)\n",
    "nbc.fit(Xtrain, ytrain)\n",
    "yhat = nbc.predict(Xtest)\n",
    "test_accuracy = np.mean(yhat == ytest)\n",
    "\n",
    "print(\"Accuracy:\", test_accuracy) # should be larger than 85%\n",
    "print(yhat)"
   ]
  },
  {
   "cell_type": "code",
   "execution_count": 9,
   "metadata": {},
   "outputs": [
    {
     "name": "stdout",
     "output_type": "stream",
     "text": [
      "Accuracy: 0.6896551724137931\n",
      "[0 1 0 1 1 0 1 1 0 1 0 0 1 0 1 0 0 0 0 0 0 0 1 0 0 1 1 0 1 0 1 0 0 0 0 1 0\n",
      " 1 0 0 0 0 0 0 1 0 0 0 0 0 0 0 1 0 0 0 0 0]\n"
     ]
    }
   ],
   "source": [
    "# All features of this dataset are categorical (bonus task)\n",
    "\n",
    "data = pd.read_csv('./datasets/categorical_test.csv', header=None)\n",
    "data = data.to_numpy()\n",
    "\n",
    "X = data[:,:-1]\n",
    "y = data[:,-1]\n",
    "\n",
    "N, D = X.shape\n",
    "Ntrain = int(0.8 * N)\n",
    "Xtrain = X[:Ntrain]\n",
    "ytrain = y[:Ntrain]\n",
    "Xtest = X[Ntrain:]\n",
    "ytest = y[Ntrain:]\n",
    "\n",
    "\n",
    "nbc = NBC(feature_types=['c'] * 9)\n",
    "nbc.fit(Xtrain, ytrain)\n",
    "yhat = nbc.predict(Xtest)\n",
    "test_accuracy = np.mean(yhat == ytest)\n",
    "\n",
    "print(\"Accuracy:\", test_accuracy) # should be larger than 65%\n",
    "print(yhat) "
   ]
  },
  {
   "cell_type": "markdown",
   "metadata": {},
   "source": [
    "## Logistic Regression"
   ]
  },
  {
   "cell_type": "markdown",
   "metadata": {},
   "source": [
    "For logistic regression, you should use the implementation in scikit-learn. Add the following\n",
    "line to import the LR model."
   ]
  },
  {
   "cell_type": "code",
   "execution_count": 10,
   "metadata": {},
   "outputs": [],
   "source": [
    "from sklearn.linear_model import LogisticRegression"
   ]
  },
  {
   "cell_type": "markdown",
   "metadata": {},
   "source": [
    "Check the scikit-learn documentation for the Logistic Regression model:\n",
    "- http://scikit-learn.org/stable/modules/linear_model.html#logistic-regression\n",
    "- http://scikit-learn.org/stable/modules/generated/sklearn.linear_model.LogisticRegression.html#sklearn.linear_model.LogisticRegression\n"
   ]
  },
  {
   "cell_type": "markdown",
   "metadata": {},
   "source": [
    "## Comparing NBC and LR"
   ]
  },
  {
   "cell_type": "markdown",
   "metadata": {},
   "source": [
    "### Experiments\n",
    "\n",
    "The experiment is to compare the classification error of the NBC and LR trained on increasingly larger training datasets. \n",
    "Since the datasets are so small, you should do this multiple times and\n",
    "average the classification error. One run should look as follows:\n",
    "- Shuffle the data, put 20% aside for testing.\n",
    "    \n",
    "    ```N, D = X.shape\n",
    "    Ntrain = int(0.8 * N)\n",
    "    shuffler = np.random.permutation(N)\n",
    "    Xtrain = X[shuffler[:Ntrain]]\n",
    "    ytrain = y[shuffler[:Ntrain]]\n",
    "    Xtest = X[shuffler[Ntrain:]]\n",
    "    ytest = y[shuffler[Ntrain:]]\n",
    "    \n",
    "    ```  \n",
    "\n",
    "\n",
    "- Train the classifiers with increasingly more data. For example, we can train classifiers with 10%, 20%, ..., 100% of the training data. For each case store the classification errors on the test set of the classifiers.\n",
    "\n",
    "You may want to repeat this with at least 200 random permutations (possibly as large as 1000)\n",
    "to average out the test error across the runs. In the end, you will get average test errors as a function of the size of the training data. \n",
    "We have written for you the function for making the plots for the experiments. "
   ]
  },
  {
   "cell_type": "code",
   "execution_count": 11,
   "metadata": {},
   "outputs": [],
   "source": [
    "# inputs:\n",
    "#   nbc: Naive Bayes Classifier\n",
    "#   lr: Logistic Regression Classifier\n",
    "#   X, y: data\n",
    "#   num_runs: we need repeat num_runs times and store average results\n",
    "#   num_splits: we want to compare the two models on increasingly larger training sets.\n",
    "#               num_splits defines the number of increasing steps. \n",
    "# outputs:\n",
    "#   the arrays of the test errors across the runs of the two classifiers \n",
    "def compareNBCvsLR(nbc, lr, X, y, num_runs=200, num_splits=10):\n",
    "    tst_errs_nbc = np.zeros(num_splits)\n",
    "    tst_errs_lr = np.zeros(num_splits)\n",
    "\n",
    "    N, D = X.shape\n",
    "    split_sizes = np.linspace(0.1, 1.0, num_splits)\n",
    "\n",
    "    for run in range(num_runs):\n",
    "        shuffler = np.random.permutation(N)\n",
    "        Ntrain = int(0.8 * N)\n",
    "        Xtrain_shuffled = X[shuffler[:Ntrain]]\n",
    "        ytrain_shuffled = y[shuffler[:Ntrain]]\n",
    "        Xtest = X[shuffler[Ntrain:]]\n",
    "        ytest = y[shuffler[Ntrain:]]\n",
    "\n",
    "        for i, split_size in enumerate(split_sizes):\n",
    "            Nsplit = int(split_size * Ntrain)\n",
    "            Xtrain_split = Xtrain_shuffled[:Nsplit]\n",
    "            ytrain_split = ytrain_shuffled[:Nsplit]\n",
    "\n",
    "            # Train NBC\n",
    "            nbc.fit(Xtrain_split, ytrain_split)\n",
    "            yhat_nbc = nbc.predict(Xtest)\n",
    "            tst_errs_nbc[i] += np.mean(yhat_nbc != ytest)\n",
    "\n",
    "            # Train LR\n",
    "            lr.fit(Xtrain_split, ytrain_split)\n",
    "            yhat_lr = lr.predict(Xtest)\n",
    "            tst_errs_lr[i] += np.mean(yhat_lr != ytest)\n",
    "\n",
    "    # Average the errors over the number of runs\n",
    "    tst_errs_nbc /= num_runs\n",
    "    tst_errs_lr /= num_runs\n",
    "\n",
    "    return tst_errs_nbc, tst_errs_lr"
   ]
  },
  {
   "cell_type": "code",
   "execution_count": 12,
   "metadata": {},
   "outputs": [],
   "source": [
    "def makePlot(nbc_perf, lr_perf, title=None, num_splits=10):\n",
    "    fig = plt.figure()\n",
    "    ax = fig.add_subplot(1, 1, 1)\n",
    "\n",
    "    ax.tick_params(axis='both', labelsize=20)\n",
    "\n",
    "    ax.set_xlabel('Percent of training data used', fontsize=20)\n",
    "    ax.set_ylabel('Classification Error', fontsize=20)\n",
    "    if title is not None: ax.set_title(title, fontsize=25)\n",
    "\n",
    "    xaxis_scale = [(i + 1) * (100/num_splits) for i in range(num_splits)]\n",
    "    plt.plot(xaxis_scale, nbc_perf, label='Naive Bayes')\n",
    "    plt.plot(xaxis_scale, lr_perf, label='Logistic Regression', linestyle='dashed')\n",
    "    \n",
    "    ax.legend(loc='upper right', fontsize=20)"
   ]
  },
  {
   "cell_type": "markdown",
   "metadata": {},
   "source": [
    "### Datasets"
   ]
  },
  {
   "cell_type": "markdown",
   "metadata": {},
   "source": [
    "Tasks: For each dataset,\n",
    "1. Prepare the data for the two classifiers, e.g., handle missing values and the categorical data. When you handle the categorical data, you should check whether the data is ordinal or not. If the data is ordinal, you should encode the data as integers. If the data is not ordinal, you should encode the data as one-hot vectors.\n",
    "2. Show the first 5 rows of the prepared data\n",
    "3. Compare the two classifiers on the dataset and generate the plots\n",
    "\n",
    "The grading will be based on whether the data is correctly prepared and the plots are generated without errors. The grading will not be based on the performance of the classifiers and whether the plots are the same as in the paper. "
   ]
  },
  {
   "cell_type": "markdown",
   "metadata": {},
   "source": [
    "**Dataset 1: Iris Dataset**\n",
    "\n",
    "https://scikit-learn.org/stable/auto_examples/datasets/plot_iris_dataset.html"
   ]
  },
  {
   "cell_type": "code",
   "execution_count": 13,
   "metadata": {},
   "outputs": [
    {
     "name": "stdout",
     "output_type": "stream",
     "text": [
      "First 5 rows of the Iris dataset:\n",
      "   sepal length (cm)  sepal width (cm)  petal length (cm)  petal width (cm)\n",
      "0                5.1               3.5                1.4               0.2\n",
      "1                4.9               3.0                1.4               0.2\n",
      "2                4.7               3.2                1.3               0.2\n",
      "3                4.6               3.1                1.5               0.2\n",
      "4                5.0               3.6                1.4               0.2\n"
     ]
    },
    {
     "data": {
      "image/png": "[encoded data removed]",
      "text/plain": [
       "<Figure size 720x720 with 1 Axes>"
      ]
     },
     "metadata": {
      "needs_background": "light"
     },
     "output_type": "display_data"
    }
   ],
   "source": [
    "from sklearn.datasets import load_iris\n",
    "\n",
    "iris = load_iris()\n",
    "\n",
    "X = iris['data']\n",
    "y = iris['target']\n",
    "\n",
    "# Convert to DataFrame for easier viewing\n",
    "df_iris = pd.DataFrame(X, columns=iris['feature_names'])\n",
    "print(\"First 5 rows of the Iris dataset:\")\n",
    "print(df_iris.head())\n",
    "\n",
    "# Prepare the NBC and LR classifiers\n",
    "nbc = NBC(feature_types=['r', 'r', 'r', 'r'])\n",
    "lr = LogisticRegression(max_iter=200)\n",
    "\n",
    "# Compare the classifiers and generate plots\n",
    "tst_errs_nbc, tst_errs_lr = compareNBCvsLR(nbc, lr, X, y)\n",
    "makePlot(tst_errs_nbc, tst_errs_lr, title='Iris Dataset', num_splits=10)"
   ]
  },
  {
   "cell_type": "markdown",
   "metadata": {},
   "source": [
    "**Dataset 2: Voting Dataset**\n",
    "\n",
    "https://archive.ics.uci.edu/ml/datasets/congressional+voting+records\n",
    "\n",
    "The logistic regression line meets the naive bayes line early in the plot. "
   ]
  },
  {
   "cell_type": "code",
   "execution_count": 14,
   "metadata": {},
   "outputs": [
    {
     "name": "stdout",
     "output_type": "stream",
     "text": [
      "First 5 rows of the Voting Dataset:\n",
      "   handicapped-infants_n  handicapped-infants_y  water-project-cost-sharing_n  \\\n",
      "0                    1.0                    0.0                           0.0   \n",
      "1                    1.0                    0.0                           0.0   \n",
      "2                    1.0                    0.0                           0.0   \n",
      "3                    1.0                    0.0                           0.0   \n",
      "4                    0.0                    1.0                           0.0   \n",
      "\n",
      "   water-project-cost-sharing_y  adoption-of-the-budget-resolution_n  \\\n",
      "0                           1.0                                  1.0   \n",
      "1                           1.0                                  1.0   \n",
      "2                           1.0                                  0.0   \n",
      "3                           1.0                                  0.0   \n",
      "4                           1.0                                  0.0   \n",
      "\n",
      "   adoption-of-the-budget-resolution_y  physician-fee-freeze_n  \\\n",
      "0                                  0.0                     0.0   \n",
      "1                                  0.0                     0.0   \n",
      "2                                  1.0                     1.0   \n",
      "3                                  1.0                     1.0   \n",
      "4                                  1.0                     1.0   \n",
      "\n",
      "   physician-fee-freeze_y  el-salvador-aid_n  el-salvador-aid_y  ...  \\\n",
      "0                     1.0                0.0                1.0  ...   \n",
      "1                     1.0                0.0                1.0  ...   \n",
      "2                     0.0                0.0                1.0  ...   \n",
      "3                     0.0                0.0                1.0  ...   \n",
      "4                     0.0                0.0                1.0  ...   \n",
      "\n",
      "   education-spending_n  education-spending_y  superfund-right-to-sue_n  \\\n",
      "0                   0.0                   1.0                       0.0   \n",
      "1                   0.0                   1.0                       0.0   \n",
      "2                   1.0                   0.0                       0.0   \n",
      "3                   1.0                   0.0                       0.0   \n",
      "4                   1.0                   0.0                       0.0   \n",
      "\n",
      "   superfund-right-to-sue_y  crime_n  crime_y  duty-free-exports_n  \\\n",
      "0                       1.0      0.0      1.0                  1.0   \n",
      "1                       1.0      0.0      1.0                  1.0   \n",
      "2                       1.0      0.0      1.0                  1.0   \n",
      "3                       1.0      1.0      0.0                  1.0   \n",
      "4                       1.0      0.0      1.0                  0.0   \n",
      "\n",
      "   duty-free-exports_y  export-administration-act-south-africa_n  \\\n",
      "0                  0.0                                       0.0   \n",
      "1                  0.0                                       0.0   \n",
      "2                  0.0                                       1.0   \n",
      "3                  0.0                                       0.0   \n",
      "4                  1.0                                       0.0   \n",
      "\n",
      "   export-administration-act-south-africa_y  \n",
      "0                                       1.0  \n",
      "1                                       1.0  \n",
      "2                                       0.0  \n",
      "3                                       1.0  \n",
      "4                                       1.0  \n",
      "\n",
      "[5 rows x 32 columns]\n"
     ]
    },
    {
     "data": {
      "image/png": "[encoded data removed]",
      "text/plain": [
       "<Figure size 720x720 with 1 Axes>"
      ]
     },
     "metadata": {
      "needs_background": "light"
     },
     "output_type": "display_data"
    }
   ],
   "source": [
    "from sklearn.preprocessing import OneHotEncoder, LabelEncoder\n",
    "\n",
    "# Load the dataset\n",
    "voting = pd.read_csv('./datasets/voting.csv')\n",
    "\n",
    "# Impute missing values with the most frequent value (mode)\n",
    "for column in voting.columns[1:]:  # Skip the label column\n",
    "    mode_value = voting[column].mode()[0]\n",
    "    voting[column] = voting[column].fillna(mode_value)\n",
    "\n",
    "# Instantiate the encoders\n",
    "onehot_encoder = OneHotEncoder(sparse=False)\n",
    "label_encoder = LabelEncoder()\n",
    "\n",
    "# One-hot encode the features (independent variables)\n",
    "voting_features = voting.drop('label', axis=1)\n",
    "voting_features_encoded = onehot_encoder.fit_transform(voting_features)\n",
    "\n",
    "# Label encode the target variable\n",
    "voting_labels = label_encoder.fit_transform(voting['label'])\n",
    "\n",
    "# Convert the encoded features back to a DataFrame\n",
    "feature_names = onehot_encoder.get_feature_names_out(voting.columns[1:])\n",
    "voting_features_encoded_df = pd.DataFrame(voting_features_encoded, columns=feature_names)\n",
    "\n",
    "# Show the first 5 rows of the prepared data\n",
    "print(\"First 5 rows of the Voting Dataset:\")\n",
    "print(voting_features_encoded_df.head())\n",
    "\n",
    "# Prepare the data for the classifiers\n",
    "X = voting_features_encoded\n",
    "y = voting_labels\n",
    "\n",
    "# Prepare the classifiers\n",
    "nbc = NBC(feature_types=['b'] * X.shape[1])  # all features are binary after one-hot encoding\n",
    "lr = LogisticRegression(max_iter=200)\n",
    "\n",
    "# Compare the classifiers and generate plots\n",
    "tst_errs_nbc, tst_errs_lr = compareNBCvsLR(nbc, lr, X, y)\n",
    "makePlot(tst_errs_nbc, tst_errs_lr, title='Voting Dataset', num_splits=10)\n"
   ]
  },
  {
   "cell_type": "markdown",
   "metadata": {},
   "source": [
    "**Dataset 3: Breast Cancer Dataset (Bonus Tasks)**\n",
    "\n",
    "https://archive.ics.uci.edu/ml/datasets/breast+cancer\n",
    "\n",
    "The dataset has continues, binary and categorical features. It also has missing values.\n",
    "\n",
    "Hints: You can precompute the size of the domains of the categorical features."
   ]
  },
  {
   "cell_type": "code",
   "execution_count": 15,
   "metadata": {},
   "outputs": [
    {
     "name": "stdout",
     "output_type": "stream",
     "text": [
      "First 5 rows of the Breast Cancer Dataset:\n",
      "   Class  age  menopause  tumor-size  inv-nodes  node-caps  deg-malig  breast  \\\n",
      "0      0    1          2           6          0          0          3       0   \n",
      "1      0    2          2           4          0          0          2       1   \n",
      "2      0    2          2           4          0          0          2       0   \n",
      "3      0    4          1           3          0          0          2       1   \n",
      "4      0    2          2           0          0          0          2       1   \n",
      "\n",
      "   irradiat  breast-quad_central  breast-quad_left_low  breast-quad_left_up  \\\n",
      "0         0                  0.0                   1.0                  0.0   \n",
      "1         0                  0.0                   0.0                  0.0   \n",
      "2         0                  0.0                   1.0                  0.0   \n",
      "3         0                  0.0                   0.0                  1.0   \n",
      "4         0                  0.0                   0.0                  0.0   \n",
      "\n",
      "   breast-quad_right_low  breast-quad_right_up  \n",
      "0                    0.0                   0.0  \n",
      "1                    0.0                   1.0  \n",
      "2                    0.0                   0.0  \n",
      "3                    0.0                   0.0  \n",
      "4                    1.0                   0.0  \n"
     ]
    },
    {
     "data": {
      "image/png": "[encoded data removed]",
      "text/plain": [
       "<Figure size 720x720 with 1 Axes>"
      ]
     },
     "metadata": {
      "needs_background": "light"
     },
     "output_type": "display_data"
    }
   ],
   "source": [
    "from sklearn.impute import SimpleImputer\n",
    "\n",
    "cancer = pd.read_csv('./datasets/breast-cancer.csv')\n",
    "\n",
    "imputer = SimpleImputer(missing_values='?', strategy='most_frequent')\n",
    "cancer[['node-caps', 'breast-quad']] = imputer.fit_transform(cancer[['node-caps', 'breast-quad']])\n",
    "\n",
    "label_encoder = LabelEncoder()\n",
    "cancer['Class'] = label_encoder.fit_transform(cancer['Class'])\n",
    "cancer['breast'] = label_encoder.fit_transform(cancer['breast'])\n",
    "cancer['irradiat'] = label_encoder.fit_transform(cancer['irradiat'])\n",
    "cancer['node-caps'] = label_encoder.fit_transform(cancer['node-caps'])\n",
    "\n",
    "age_mapping = {'20-29': 0, '30-39': 1, '40-49': 2, '50-59': 3, '60-69': 4, '70-79': 5}\n",
    "cancer['age'] = cancer['age'].map(age_mapping)\n",
    "\n",
    "onehot_encoder = OneHotEncoder(sparse=False)\n",
    "menopause_encoded = onehot_encoder.fit_transform(cancer[['menopause']])\n",
    "\n",
    "menopause_mapping = {'lt40': 0, 'ge40': 1, 'premeno': 2}\n",
    "tumor_size_mapping = {'0-4': 0, '5-9': 1, '10-14': 2, '15-19': 3, '20-24': 4, '25-29': 5,\n",
    "                      '30-34': 6, '35-39': 7, '40-44': 8, '45-49': 9, '50-54': 10}\n",
    "inv_nodes_mapping = {'0-2': 0, '3-5': 1, '6-8': 2, '9-11': 3, '12-14': 4, '15-17': 5, '24-26': 6}\n",
    "\n",
    "cancer['menopause'] = cancer['menopause'].map(menopause_mapping)\n",
    "cancer['tumor-size'] = cancer['tumor-size'].map(tumor_size_mapping)\n",
    "cancer['inv-nodes'] = cancer['inv-nodes'].map(inv_nodes_mapping)\n",
    "\n",
    "onehot_encoder = OneHotEncoder(sparse=False)\n",
    "breast_quad_encoded = onehot_encoder.fit_transform(cancer[['breast-quad']])\n",
    "\n",
    "breast_quad_encoded_df = pd.DataFrame(breast_quad_encoded, columns=onehot_encoder.get_feature_names_out(['breast-quad']))\n",
    "cancer_encoded = pd.concat([cancer.drop('breast-quad', axis=1), breast_quad_encoded_df], axis=1)\n",
    "\n",
    "class NBC:\n",
    "    # Inputs:\n",
    "    #   feature_types: the array of the types of the features, e.g., feature_types=['b', 'r', 'c']\n",
    "    #   domain_sizes: the array of the domain sizes for the categorical features\n",
    "    def __init__(self, feature_types=[], domain_sizes=None):\n",
    "        self.feature_types = feature_types\n",
    "        self.domain_sizes = domain_sizes if domain_sizes is not None else []\n",
    "        self.params = []\n",
    "        self.class_priors = []\n",
    "\n",
    "    # The function uses the input data to estimate all the parameters of the NBC\n",
    "    def fit(self, X, y):\n",
    "        classes = np.unique(y)\n",
    "        self.class_priors = np.array([np.log(np.mean(y == c)) for c in classes])\n",
    "        self.params = {f_type: [[] for _ in classes] for f_type in self.feature_types}\n",
    "\n",
    "        # Estimate parameters for each feature for each class\n",
    "        for f_idx, (f_type, domain_size) in enumerate(zip(self.feature_types, self.domain_sizes)):\n",
    "            if f_type == 'b':\n",
    "                param_class = BinFeatureParam\n",
    "            elif f_type == 'r':\n",
    "                param_class = ContFeatureParam\n",
    "            elif f_type == 'c':\n",
    "                param_class = lambda: CatFeatureParam(domain_size)\n",
    "\n",
    "            for c_idx, c in enumerate(classes):\n",
    "                idx = np.where(y == c)\n",
    "                param_instance = param_class()\n",
    "                param_instance.estimate(X[idx, f_idx].flatten())\n",
    "                self.params[f_type][c_idx].append(param_instance)\n",
    "\n",
    "    # The function takes the data X as input, and predicts the class for the data\n",
    "    def predict(self, X):\n",
    "        num_classes = len(self.class_priors)\n",
    "        log_probs = np.zeros((X.shape[0], num_classes))\n",
    "        for i in range(num_classes):\n",
    "            for j, f_type in enumerate(self.feature_types):\n",
    "                log_probs[:, i] += self.params[f_type][i][j].get_log_probability(X[:, j])\n",
    "            log_probs[:, i] += self.class_priors[i]\n",
    "\n",
    "        return np.argmax(log_probs, axis=1)\n",
    "\n",
    "feature_types = ['b'] * (cancer_encoded.shape[1] - 1)  # excluding the target variable\n",
    "domain_sizes = [len(cancer_encoded[column].unique()) for column in cancer_encoded.columns if column != 'Class']\n",
    "\n",
    "print(\"First 5 rows of the Breast Cancer Dataset:\")\n",
    "print(cancer_encoded.head())\n",
    "\n",
    "nbc = NBC(feature_types=feature_types, domain_sizes=domain_sizes)\n",
    "lr = LogisticRegression(max_iter=200)\n",
    "\n",
    "tst_errs_nbc, tst_errs_lr = compareNBCvsLR(nbc, lr, X, y)\n",
    "makePlot(tst_errs_nbc, tst_errs_lr, title='Breast Cancer Dataset', num_splits=10)"
   ]
  }
 ],
 "metadata": {
  "kernelspec": {
   "display_name": "Python 3 (ipykernel)",
   "language": "python",
   "name": "python3"
  },
  "language_info": {
   "codemirror_mode": {
    "name": "ipython",
    "version": 3
   },
   "file_extension": ".py",
   "mimetype": "text/x-python",
   "name": "python",
   "nbconvert_exporter": "python",
   "pygments_lexer": "ipython3",
   "version": "3.9.12"
  }
 },
 "nbformat": 4,
 "nbformat_minor": 4
}
